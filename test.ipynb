{
 "cells": [
  {
   "cell_type": "code",
   "execution_count": 39,
   "metadata": {},
   "outputs": [],
   "source": [
    "import numpy as np\n",
    "import torch"
   ]
  },
  {
   "cell_type": "code",
   "execution_count": 25,
   "metadata": {},
   "outputs": [
    {
     "data": {
      "text/plain": [
       "array([0., 1., 1., 0.])"
      ]
     },
     "execution_count": 25,
     "metadata": {},
     "output_type": "execute_result"
    }
   ],
   "source": [
    "b = np.array([-1,4,2,-2])\n",
    "\n",
    "np.heaviside(b,0)"
   ]
  },
  {
   "cell_type": "code",
   "execution_count": 42,
   "metadata": {},
   "outputs": [
    {
     "name": "stdout",
     "output_type": "stream",
     "text": [
      "tensor([[12., 13., 14., 15.],\n",
      "        [22., 23., 24., 25.],\n",
      "        [32., 33., 34., 35.],\n",
      "        [42., 43., 44., 45.]])\n"
     ]
    }
   ],
   "source": [
    "aten = torch.tensor([[11, 12, 13, 14],\n",
    "                     [21, 22, 23, 24],\n",
    "                     [31, 32, 33, 34],\n",
    "                     [41, 42, 43, 44]])\n",
    "\n",
    "# i = 2\n",
    "# print(aten[0: , i:(i+1)])\n",
    "# print(torch.einsum('ab -> ', aten))\n",
    "\n",
    "B = torch.empty((4,4))\n",
    "\n",
    "for i in range(aten.shape[0]):\n",
    "    for j in range(aten.shape[1]):\n",
    "        B[i,j] = aten[i,j] + 1\n",
    "\n",
    "print(B)"
   ]
  },
  {
   "cell_type": "code",
   "execution_count": 35,
   "metadata": {},
   "outputs": [],
   "source": [
    "def activation(U,W):\n",
    "    res = torch.empty((U.shape[1],U.shape[1]))\n",
    "\n",
    "    for i in range(U.shape[1]):\n",
    "        for j in range(W.shape[1]):\n",
    "            vec = torch.mul(U[0: , i:(i+1)], W[0: , j:(j+1)]).detach().to(device).numpy()\n",
    "            res[i,j] = np.prod(np.heaviside(vec, 0))\n",
    "    \n",
    "    return(res)"
   ]
  },
  {
   "cell_type": "code",
   "execution_count": 38,
   "metadata": {},
   "outputs": [
    {
     "data": {
      "text/plain": [
       "tensor([[1., 0., 0., 0.],\n",
       "        [1., 0., 0., 0.],\n",
       "        [1., 0., 0., 0.],\n",
       "        [1., 0., 0., 0.]])"
      ]
     },
     "execution_count": 38,
     "metadata": {},
     "output_type": "execute_result"
    }
   ],
   "source": [
    "device = torch.device(\"cuda\" if torch.cuda.is_available() else \"cpu\")\n",
    "\n",
    "aten = torch.tensor([[11, 12, 13, 14],\n",
    "                     [21, 22, 23, 24],\n",
    "                     [31, 32, 33, 34],\n",
    "                     [41, 42, 43, 44]])\n",
    "\n",
    "bten = torch.tensor([[1, 1, 3, -4],\n",
    "                     [2, 3, 0, 0],\n",
    "                     [3, 0, 0, 3],\n",
    "                     [4, -1, 0, 4]])\n",
    "\n",
    "i = 2\n",
    "j = 3\n",
    "# p = torch.mul(aten[0: , i:(i+1)], bten[0: , j:(j+1)])\n",
    "activation(aten,bten)"
   ]
  },
  {
   "cell_type": "code",
   "execution_count": 34,
   "metadata": {},
   "outputs": [
    {
     "data": {
      "text/plain": [
       "0"
      ]
     },
     "execution_count": 34,
     "metadata": {},
     "output_type": "execute_result"
    }
   ],
   "source": [
    "np.prod(p.detach().cpu().numpy())"
   ]
  },
  {
   "cell_type": "code",
   "execution_count": 50,
   "metadata": {},
   "outputs": [
    {
     "name": "stdout",
     "output_type": "stream",
     "text": [
      "tensor([[11, 12, 13, 14],\n",
      "        [21, 22, 23, 24],\n",
      "        [31, 32, 33, 34],\n",
      "        [41, 42, 43, 44]])\n",
      "3 3\n"
     ]
    },
    {
     "data": {
      "text/plain": [
       "tensor([[11, 12, 13],\n",
       "        [21, 22, 23],\n",
       "        [31, 32, 33]])"
      ]
     },
     "execution_count": 50,
     "metadata": {},
     "output_type": "execute_result"
    }
   ],
   "source": [
    "print(aten)\n",
    "N = aten.shape[0]-1\n",
    "d = aten.shape[1]-1\n",
    "\n",
    "print(N, d)\n",
    "aten[0:d,0:N]"
   ]
  }
 ],
 "metadata": {
  "kernelspec": {
   "display_name": "Python 3",
   "language": "python",
   "name": "python3"
  },
  "language_info": {
   "codemirror_mode": {
    "name": "ipython",
    "version": 3
   },
   "file_extension": ".py",
   "mimetype": "text/x-python",
   "name": "python",
   "nbconvert_exporter": "python",
   "pygments_lexer": "ipython3",
   "version": "3.11.2"
  }
 },
 "nbformat": 4,
 "nbformat_minor": 2
}
