{
 "cells": [
  {
   "cell_type": "code",
   "execution_count": 1,
   "metadata": {},
   "outputs": [],
   "source": [
    "# where xgboost works better\n",
    "import numpy as np\n",
    "import pandas as pd \n",
    "import xgboost as xg \n",
    "from sklearn.model_selection import train_test_split \n",
    "from sklearn.metrics import mean_squared_error as MSE \n",
    "from sklearn.metrics import r2_score"
   ]
  },
  {
   "cell_type": "code",
   "execution_count": 2,
   "metadata": {},
   "outputs": [],
   "source": [
    "X = np.random.multivariate_normal([0, 0], [[1, 0.9], [0.9, 1]], 10000)\n",
    "ym= X[:,1]/np.sqrt((X[:,1])**2+(X[:,1])**2) + np.random.normal(0, 0.1, size=len(X))\n",
    "train_X, test_X, train_y, test_y = train_test_split(X, y, \n",
    "                      test_size = 0.3, random_state = 123)"
   ]
  },
  {
   "cell_type": "code",
   "execution_count": 3,
   "metadata": {},
   "outputs": [
    {
     "name": "stdout",
     "output_type": "stream",
     "text": [
      "Test MSE: 0.01642203405142219\n",
      "R sqr: 0.9674573990431368\n"
     ]
    }
   ],
   "source": [
    "  \n",
    "# Instantiation \n",
    "xgb_r = xg.XGBRegressor(objective ='reg:squarederror', max_depth=20, subsample=0.7,learning_rate = 0.5, alpha = 0,\n",
    "                  n_estimators = 10, seed = 123) \n",
    "  \n",
    "# Fitting the model \n",
    "xgb_r.fit(train_X, train_y) \n",
    "  \n",
    "# Predict the model \n",
    "pred = xgb_r.predict(test_X) \n",
    "  \n",
    "# MSE Computation \n",
    "mse = MSE(test_y, pred)\n",
    "print(\"Test MSE:\", mse)\n",
    "\n",
    "r2= r2_score(test_y, pred)\n",
    "print(\"R sqr:\", r2)"
   ]
  },
  {
   "cell_type": "code",
   "execution_count": 10,
   "metadata": {},
   "outputs": [
    {
     "name": "stderr",
     "output_type": "stream",
     "text": [
      "c:\\Users\\JYOTISHKA\\anaconda3\\lib\\site-packages\\sklearn\\linear_model\\_ridge.py:255: UserWarning: Singular matrix in solving dual problem. Using least-squares solution instead.\n",
      "  warnings.warn(\n"
     ]
    },
    {
     "name": "stdout",
     "output_type": "stream",
     "text": [
      "Test MSE: 0.13689006729892708\n",
      "R sqr: 0.7287328219441038\n"
     ]
    }
   ],
   "source": [
    "from sklearn.kernel_ridge import KernelRidge\n",
    "# Fit the kernel regression model\n",
    "alpha = 0  # Regularization parameter\n",
    "gamma = 0.01  # Kernel coefficient / Bandwidth\n",
    "kernel_reg = KernelRidge(alpha=alpha, kernel='poly', gamma=gamma)\n",
    "kernel_reg.fit(train_X, train_y)\n",
    "\n",
    "# Predict on the training and testing data\n",
    "#y_train_pred = kernel_reg.predict(X_train)\n",
    "y_test_pred = kernel_reg.predict(test_X)\n",
    "\n",
    "# Calculate the mean squared error\n",
    "#mse_train = mean_squared_error(y_train, y_train_pred)\n",
    "mse = MSE(test_y, y_test_pred)\n",
    "\n",
    "#print(\"Train MSE:\", mse_train)\n",
    "print(\"Test MSE:\", mse)\n",
    "\n",
    "r2= r2_score(test_y, y_test_pred)\n",
    "print(\"R sqr:\", r2)\n"
   ]
  },
  {
   "cell_type": "code",
   "execution_count": 9,
   "metadata": {},
   "outputs": [
    {
     "name": "stdout",
     "output_type": "stream",
     "text": [
      "Test MSE: 0.016272196030141278\n",
      "R sqr: 0.9677543244373628\n"
     ]
    }
   ],
   "source": [
    "from sklearn.ensemble import GradientBoostingRegressor\n",
    "gb_regressor = GradientBoostingRegressor(loss=\"squared_error\",n_estimators=100, learning_rate=0.5, max_depth=20, random_state=42)\n",
    "\n",
    "# Fit the model to the training data\n",
    "gb_regressor.fit(train_X, train_y)\n",
    "pred = gb_regressor.predict(test_X)\n",
    "\n",
    "# MSE Computation \n",
    "mse = MSE(test_y, pred)\n",
    "print(\"Test MSE:\", mse)\n",
    "\n",
    "r2= r2_score(test_y, pred)\n",
    "print(\"R sqr:\", r2)"
   ]
  }
 ],
 "metadata": {
  "kernelspec": {
   "display_name": "base",
   "language": "python",
   "name": "python3"
  },
  "language_info": {
   "codemirror_mode": {
    "name": "ipython",
    "version": 3
   },
   "file_extension": ".py",
   "mimetype": "text/x-python",
   "name": "python",
   "nbconvert_exporter": "python",
   "pygments_lexer": "ipython3",
   "version": "3.10.9"
  }
 },
 "nbformat": 4,
 "nbformat_minor": 2
}
